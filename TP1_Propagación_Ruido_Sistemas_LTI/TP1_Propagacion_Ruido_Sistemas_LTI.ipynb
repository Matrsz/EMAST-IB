{
 "cells": [
  {
   "cell_type": "markdown",
   "metadata": {},
   "source": [
    "$$\n",
    "T_c(s) = C_p (\\Theta_{ref}(s) - \\Theta(s)) - \\frac{C_d}{Js}T_c(s)\n",
    "$$\n",
    "\n",
    "$$\n",
    "\\Theta(s) = \\frac{1}{Js^2} T_c(s)\n",
    "$$\n",
    "\n",
    "Reemplazando 2 en 1: \n",
    "\n",
    "$$\n",
    "Js^2 \\Theta(s) = C_p (\\Theta_{ref}(s) - \\Theta(s)) - C_d s \\Theta(s)\n",
    "$$\n",
    "\n",
    "Despejando:\n",
    "\n",
    "$$\n",
    "(Js^2  + C_d s + C_p) \\Theta(s) = C_p \\Theta_{ref}(s)\n",
    "$$\n",
    "\n",
    "De esta forma se verifica la función de transferencia \n",
    "\n",
    "$$\n",
    "\\frac{\\Theta(s)}{\\Theta_{ref}(s)}  = \\frac{C_p}{Js^2  + C_d s + C_p} \n",
    "$$\n",
    "\n",
    "o bien, \n",
    "\n",
    "$$\n",
    "\\frac{\\Theta(s)}{\\Theta_{ref}(s)}  = \\frac{\\frac{C_p}{J}}{s^2  + \\frac{C_d}{J} s + \\frac{C_p}{J}} \n",
    "$$\n",
    "\n",
    "Para relacionar esto con la frecuencia natural $\\omega_n$ y el factor de amortiguamiento $\\xi$\n",
    "\n",
    "$$\n",
    "\\frac{\\Theta(s)}{\\Theta_{ref}(s)}  = \\frac{\\omega_n^2}{s^2  + 2\\xi\\omega_n s + \\omega_n^2} \n",
    "$$\n",
    "\n",
    "Se obtiene diréctamente\n",
    "\n",
    "$$\n",
    "\\omega_n = \\sqrt{\\frac{C_p}{J}}\n",
    "$$\n",
    "\n",
    "Además, \n",
    "\n",
    "$$\n",
    "\\frac{C_d}{J} = 2\\xi \\sqrt{\\frac{C_p}{J}} \\implies \\xi = \\frac{1}{2}\\frac{C_d}{\\sqrt{JC_p}}$$"
   ]
  },
  {
   "cell_type": "markdown",
   "metadata": {},
   "source": [
    "En particular, con los valores dados en la tabla\n",
    "\n",
    "| Parámetro | Valor |\n",
    "| :-: | :-: | \n",
    "| $J$ | 1000 [kg m²] |\n",
    "| $\\omega_n$ | 0,1 [rad/s] |\n",
    "| $\\xi$ | 0,7 |\n",
    "\n",
    "Se obtienen los valores de $C_d$ y $C_p$\n",
    "\n",
    "$$\n",
    "C_p = \\omega_n^2J = 10 \\text{ kg m²/s²}\n",
    "$$\n",
    "\n",
    "$$\n",
    "C_d = 2\\xi\\omega_n J = 140 \\text{ kg m²/s}\n",
    "$$"
   ]
  },
  {
   "cell_type": "code",
   "execution_count": 1,
   "metadata": {},
   "outputs": [],
   "source": [
    "J = 1000\n",
    "w_n = 0.1\n",
    "xi = 0.7\n",
    "\n",
    "C_p = w_n**2*J\n",
    "C_d = 2*xi*w_n*J"
   ]
  },
  {
   "cell_type": "markdown",
   "metadata": {},
   "source": [
    "Vamos con el grande...\n",
    "\n",
    "$$\n",
    "T_c(s) = C_p (\\Theta_{ref}(s) - \\Theta(s) - N_{LP3}(s)) - C_d \\left(\\frac{1}{Js}(T_c(s)+N_{LP1}(s)) + N_{LP2}(s)\\right)\n",
    "$$\n",
    "\n",
    "\n",
    "$$\n",
    "\\Theta(s) = \\frac{1}{Js^2} (T_c(s)+N_{LP1}(s))\n",
    "$$\n",
    "\n",
    "\n",
    "Reemplazando:\n",
    "\n",
    "$$\n",
    "Js^2\\Theta(s)-N_{LP1}(s) = C_p (\\Theta_{ref}(s) - \\Theta(s) - N_{LP3}(s)) - C_d \\left(s \\Theta(s) + N_{LP2}(s)\\right)\n",
    "$$\n",
    "\n",
    "Agrupando a un lado:\n",
    "\n",
    "$$\n",
    "(Js^2+C_d s + C_p)\\Theta(s) = C_p \\Theta_{ref}(s) - C_pN_{LP3}(s) - C_dN_{LP2}(s) + N_{LP1}(s)\n",
    "$$\n",
    "\n",
    "Finalmente, esto se puede expresar de la siguiente forma.\n",
    "\n",
    "$$\n",
    "\\Theta(s) = \\frac{C_p}{Js^2+C_d s + C_p} \\Theta_{ref}(s) + \\frac{- C_p}{Js^2+C_d s + C_p}N_{LP3}(s) + \\frac{- C_d}{Js^2+C_d s + C_p}N_{LP2}(s) + \\frac{1}{Js^2+C_d s + C_p}N_{LP1}(s)\n",
    "$$"
   ]
  },
  {
   "cell_type": "code",
   "execution_count": 2,
   "metadata": {},
   "outputs": [],
   "source": [
    "import scipy.signal as signal\n",
    "import numpy as np \n",
    "import matplotlib.pyplot as plt\n",
    "\n",
    "H_1 = signal.TransferFunction([1], [J, C_d, C_p])\n",
    "H_2 = signal.TransferFunction([-C_d], [J, C_d, C_p])\n",
    "H_3 = signal.TransferFunction([-C_p], [J, C_d, C_p])\n",
    "\n",
    "t_end = 300\n",
    "N = 1000\n",
    "\n",
    "theta_ref = np.ones(N)\n",
    "t = np.linspace(0, t_end, N)\n",
    "\n",
    "T, theta1, _ = signal.lsim(H_1, theta_ref, t)\n",
    "T, theta2, _ = signal.lsim(H_2, theta_ref, t)\n",
    "T, theta3, _ = signal.lsim(H_3, theta_ref, t)"
   ]
  },
  {
   "cell_type": "code",
   "execution_count": 4,
   "metadata": {},
   "outputs": [
    {
     "data": {
      "text/plain": [
       "[<matplotlib.lines.Line2D at 0x7f02f095e9f0>]"
      ]
     },
     "execution_count": 4,
     "metadata": {},
     "output_type": "execute_result"
    },
    {
     "data": {
      "image/png": "[encoded data removed]",
      "text/plain": [
       "<Figure size 640x480 with 3 Axes>"
      ]
     },
     "metadata": {},
     "output_type": "display_data"
    }
   ],
   "source": [
    "fig, ax = plt.subplots(3,1)\n",
    "ax[0].plot(T, theta1)\n",
    "ax[1].plot(T, theta2)\n",
    "ax[2].plot(T, theta3)"
   ]
  },
  {
   "cell_type": "code",
   "execution_count": null,
   "metadata": {},
   "outputs": [],
   "source": []
  }
 ],
 "metadata": {
  "kernelspec": {
   "display_name": "Python 3",
   "language": "python",
   "name": "python3"
  },
  "language_info": {
   "codemirror_mode": {
    "name": "ipython",
    "version": 3
   },
   "file_extension": ".py",
   "mimetype": "text/x-python",
   "name": "python",
   "nbconvert_exporter": "python",
   "pygments_lexer": "ipython3",
   "version": "3.12.5"
  }
 },
 "nbformat": 4,
 "nbformat_minor": 2
}
